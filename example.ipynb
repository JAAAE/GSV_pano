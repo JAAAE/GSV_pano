{
  "nbformat": 4,
  "nbformat_minor": 0,
  "metadata": {
    "colab": {
      "provenance": [],
      "gpuType": "T4"
    },
    "kernelspec": {
      "name": "python3",
      "display_name": "Python 3"
    },
    "language_info": {
      "name": "python"
    },
    "accelerator": "GPU",
    "gpuClass": "standard"
  },
  "cells": [
    {
      "cell_type": "markdown",
      "source": [
        "# Connect to google drive"
      ],
      "metadata": {
        "id": "h1_vcsF_RdYp"
      }
    },
    {
      "cell_type": "code",
      "execution_count": 1,
      "metadata": {
        "id": "YVqBLpn8JYUz",
        "colab": {
          "base_uri": "https://localhost:8080/"
        },
        "outputId": "0ede399d-4703-45dd-a9d1-1fdeafe8e191"
      },
      "outputs": [
        {
          "output_type": "stream",
          "name": "stdout",
          "text": [
            "Mounted at /content/drive\n"
          ]
        }
      ],
      "source": [
        "from google.colab import drive\n",
        "drive.mount('/content/drive') "
      ]
    },
    {
      "cell_type": "code",
      "source": [
        "cd /content/"
      ],
      "metadata": {
        "id": "h4vHpMoZLF6b",
        "colab": {
          "base_uri": "https://localhost:8080/"
        },
        "outputId": "e52c43b6-e050-46a1-ac29-af22aa44b868"
      },
      "execution_count": 2,
      "outputs": [
        {
          "output_type": "stream",
          "name": "stdout",
          "text": [
            "/content\n"
          ]
        }
      ]
    },
    {
      "cell_type": "markdown",
      "source": [
        "# Downlaod library "
      ],
      "metadata": {
        "id": "0qUwOkGoRvKw"
      }
    },
    {
      "cell_type": "code",
      "source": [
        "pip install git+https://github.com/robolyst/streetview\n"
      ],
      "metadata": {
        "id": "AlLOxA9GLHZy",
        "colab": {
          "base_uri": "https://localhost:8080/"
        },
        "outputId": "5354a77b-7363-4690-ff55-630cdd3571e2"
      },
      "execution_count": 3,
      "outputs": [
        {
          "output_type": "stream",
          "name": "stdout",
          "text": [
            "Looking in indexes: https://pypi.org/simple, https://us-python.pkg.dev/colab-wheels/public/simple/\n",
            "Collecting git+https://github.com/robolyst/streetview\n",
            "  Cloning https://github.com/robolyst/streetview to /tmp/pip-req-build-42xc2o1e\n",
            "  Running command git clone --filter=blob:none --quiet https://github.com/robolyst/streetview /tmp/pip-req-build-42xc2o1e\n",
            "  Resolved https://github.com/robolyst/streetview to commit 38d849990f5c07fdc21645db3811059eefac231c\n",
            "  Preparing metadata (setup.py) ... \u001b[?25l\u001b[?25hdone\n",
            "Requirement already satisfied: requests in /usr/local/lib/python3.10/dist-packages (from streetview==0.0.0) (2.27.1)\n",
            "Requirement already satisfied: pillow in /usr/local/lib/python3.10/dist-packages (from streetview==0.0.0) (8.4.0)\n",
            "Requirement already satisfied: pydantic in /usr/local/lib/python3.10/dist-packages (from streetview==0.0.0) (1.10.7)\n",
            "Requirement already satisfied: typing-extensions>=4.2.0 in /usr/local/lib/python3.10/dist-packages (from pydantic->streetview==0.0.0) (4.5.0)\n",
            "Requirement already satisfied: urllib3<1.27,>=1.21.1 in /usr/local/lib/python3.10/dist-packages (from requests->streetview==0.0.0) (1.26.15)\n",
            "Requirement already satisfied: certifi>=2017.4.17 in /usr/local/lib/python3.10/dist-packages (from requests->streetview==0.0.0) (2022.12.7)\n",
            "Requirement already satisfied: charset-normalizer~=2.0.0 in /usr/local/lib/python3.10/dist-packages (from requests->streetview==0.0.0) (2.0.12)\n",
            "Requirement already satisfied: idna<4,>=2.5 in /usr/local/lib/python3.10/dist-packages (from requests->streetview==0.0.0) (3.4)\n",
            "Building wheels for collected packages: streetview\n",
            "  Building wheel for streetview (setup.py) ... \u001b[?25l\u001b[?25hdone\n",
            "  Created wheel for streetview: filename=streetview-0.0.0-py3-none-any.whl size=5639 sha256=619662e70e8e9b67c376553f48abff13658278a3664461ecaf4a32c53b5cf6c4\n",
            "  Stored in directory: /tmp/pip-ephem-wheel-cache-zghe8fh3/wheels/a7/37/28/3a3707dbda09c4ed8d0fe37af8814e46122cd666049bce76ad\n",
            "Successfully built streetview\n",
            "Installing collected packages: streetview\n",
            "Successfully installed streetview-0.0.0\n"
          ]
        }
      ]
    },
    {
      "cell_type": "code",
      "source": [
        "pip install streetview"
      ],
      "metadata": {
        "colab": {
          "base_uri": "https://localhost:8080/"
        },
        "id": "SYGOE0vHSN1V",
        "outputId": "afc84e5f-752f-459d-9b39-918b148107f9"
      },
      "execution_count": 4,
      "outputs": [
        {
          "output_type": "stream",
          "name": "stdout",
          "text": [
            "Looking in indexes: https://pypi.org/simple, https://us-python.pkg.dev/colab-wheels/public/simple/\n",
            "Requirement already satisfied: streetview in /usr/local/lib/python3.10/dist-packages (0.0.0)\n",
            "Requirement already satisfied: requests in /usr/local/lib/python3.10/dist-packages (from streetview) (2.27.1)\n",
            "Requirement already satisfied: pillow in /usr/local/lib/python3.10/dist-packages (from streetview) (8.4.0)\n",
            "Requirement already satisfied: pydantic in /usr/local/lib/python3.10/dist-packages (from streetview) (1.10.7)\n",
            "Requirement already satisfied: typing-extensions>=4.2.0 in /usr/local/lib/python3.10/dist-packages (from pydantic->streetview) (4.5.0)\n",
            "Requirement already satisfied: urllib3<1.27,>=1.21.1 in /usr/local/lib/python3.10/dist-packages (from requests->streetview) (1.26.15)\n",
            "Requirement already satisfied: certifi>=2017.4.17 in /usr/local/lib/python3.10/dist-packages (from requests->streetview) (2022.12.7)\n",
            "Requirement already satisfied: charset-normalizer~=2.0.0 in /usr/local/lib/python3.10/dist-packages (from requests->streetview) (2.0.12)\n",
            "Requirement already satisfied: idna<4,>=2.5 in /usr/local/lib/python3.10/dist-packages (from requests->streetview) (3.4)\n"
          ]
        }
      ]
    },
    {
      "cell_type": "markdown",
      "source": [
        "# Download example data (coordinates)"
      ],
      "metadata": {
        "id": "LwLcaBWuYaFN"
      }
    },
    {
      "cell_type": "code",
      "source": [
        "! git clone https://github.com/JAAAE/GSV_pano.git"
      ],
      "metadata": {
        "colab": {
          "base_uri": "https://localhost:8080/"
        },
        "id": "_4ybZP-9YZHG",
        "outputId": "d5a354e1-53df-4619-9fad-f9d557c1c459"
      },
      "execution_count": 5,
      "outputs": [
        {
          "output_type": "stream",
          "name": "stdout",
          "text": [
            "Cloning into 'GSV_pano'...\n",
            "remote: Enumerating objects: 18, done.\u001b[K\n",
            "remote: Counting objects: 100% (18/18), done.\u001b[K\n",
            "remote: Compressing objects: 100% (13/13), done.\u001b[K\n",
            "remote: Total 18 (delta 4), reused 0 (delta 0), pack-reused 0\u001b[K\n",
            "Unpacking objects: 100% (18/18), 3.83 KiB | 785.00 KiB/s, done.\n"
          ]
        }
      ]
    },
    {
      "cell_type": "markdown",
      "source": [
        "# Read coordinates from the csv file, filter pano_id based on the date, and export the pano id to the csv file.\n"
      ],
      "metadata": {
        "id": "pWjy5XrER-6u"
      }
    },
    {
      "cell_type": "code",
      "source": [
        "from streetview import search_panoramas\n",
        "import csv\n",
        "\n",
        "# Open the csv file\n",
        "with open('/content/GSV_pano/coordinates.csv', 'r') as file:\n",
        "    # Create a csv reader\n",
        "    reader = csv.reader(file)\n",
        "\n",
        "    pano_ids_first = []\n",
        "\n",
        "    # Iterate over each row in the csv\n",
        "    for row in reader:\n",
        "        # Extract latitude and longitude from the row\n",
        "        lat, lon = row[0], row[1]\n",
        "\n",
        "        # Perform panorama search\n",
        "        panoramas = search_panoramas(lat=lat, lon=lon)\n",
        "\n",
        "        # Filter panoramas based on csv date (e.g. after 2018)\n",
        "        filtered_panoramas = [panorama for panorama in panoramas if panorama.date is not None and int(panorama.date.split('-')[0]) > 2019]\n",
        "\n",
        "        # Extract the pano_id based on the filtered Google Street View (GSV) date\n",
        "        if filtered_panoramas:\n",
        "            pano_ids_first.append(filtered_panoramas[0].pano_id)\n",
        "\n",
        "# Append the pano_ids as a new column in the existing csv file\n",
        "with open('output_pano_id.csv', 'a', newline='') as csvfile:\n",
        "    writer = csv.DictWriter(csvfile,fieldnames = [\"pano_id\"])\n",
        "    writer.writeheader()\n",
        "    writer = csv.writer(csvfile)\n",
        "\n",
        "    # Write each pano_id in a new row as a separate column\n",
        "    for pano_id in pano_ids_first:\n",
        "        writer.writerow([pano_id])\n"
      ],
      "metadata": {
        "id": "0W1pCG13LJYC"
      },
      "execution_count": 6,
      "outputs": []
    },
    {
      "cell_type": "markdown",
      "source": [
        "# download panoramic imagery "
      ],
      "metadata": {
        "id": "gd4upUnlSPV9"
      }
    },
    {
      "cell_type": "code",
      "source": [
        "from streetview import get_panorama\n",
        "import csv\n",
        "\n",
        "# Open the csv file\n",
        "with open('output_pano_id.csv', 'r') as file:\n",
        "    # Create a csv reader\n",
        "    reader = csv.reader(file)\n",
        "    next(reader)\n",
        "    # Iterate over each row in the csv\n",
        "    for row in reader:\n",
        "        # Extract the panorama ID from the row\n",
        "        pano_id = row[0]  # Assuming the panorama ID is in the third column (index 2)\n",
        "        print(pano_id)\n",
        "        # Retrieve the panorama image\n",
        "        image = get_panorama(pano_id=pano_id)\n",
        "\n",
        "        # Save the image\n",
        "        image.save(f\"{pano_id}.jpg\", \"jpeg\")\n"
      ],
      "metadata": {
        "colab": {
          "base_uri": "https://localhost:8080/"
        },
        "id": "ff4uGa9lQdhu",
        "outputId": "8c9c8f17-317b-47ea-a03b-6e9594a2f1bf"
      },
      "execution_count": 7,
      "outputs": [
        {
          "output_type": "stream",
          "name": "stdout",
          "text": [
            "bEFu5NCbivbs_dQMXOSBQg\n",
            "gWRkis4v4Oqn6GaYcTT7aQ\n",
            "M7dv9YW8Ui0N8EZMnKywSw\n"
          ]
        }
      ]
    }
  ]
}