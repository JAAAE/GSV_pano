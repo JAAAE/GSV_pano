{
  "cells": [
    {
      "cell_type": "markdown",
      "metadata": {
        "id": "h1_vcsF_RdYp"
      },
      "source": [
        "# Connect to google drive"
      ]
    },
    {
      "cell_type": "code",
      "execution_count": null,
      "metadata": {
        "id": "YVqBLpn8JYUz"
      },
      "outputs": [],
      "source": [
        "from google.colab import drive\n",
        "drive.mount('/content/drive')"
      ]
    },
    {
      "cell_type": "code",
      "execution_count": null,
      "metadata": {
        "colab": {
          "base_uri": "https://localhost:8080/"
        },
        "id": "h4vHpMoZLF6b",
        "outputId": "b6cff85d-c041-441c-a500-73ea4b9d2b82"
      },
      "outputs": [
        {
          "name": "stdout",
          "output_type": "stream",
          "text": [
            "/content\n"
          ]
        }
      ],
      "source": [
        "cd /content/"
      ]
    },
    {
      "cell_type": "markdown",
      "metadata": {
        "id": "0qUwOkGoRvKw"
      },
      "source": [
        "# Downlaod library"
      ]
    },
    {
      "cell_type": "code",
      "execution_count": null,
      "metadata": {
        "colab": {
          "base_uri": "https://localhost:8080/"
        },
        "id": "AlLOxA9GLHZy",
        "outputId": "5f738331-5453-4dee-ce3e-42c5c669507e"
      },
      "outputs": [
        {
          "name": "stdout",
          "output_type": "stream",
          "text": [
            "Collecting git+https://github.com/robolyst/streetview\n",
            "  Cloning https://github.com/robolyst/streetview to /tmp/pip-req-build-mr5lrok1\n",
            "  Running command git clone --filter=blob:none --quiet https://github.com/robolyst/streetview /tmp/pip-req-build-mr5lrok1\n",
            "  Resolved https://github.com/robolyst/streetview to commit f43a0916deb0ac1efdb52d2babfbbfc6a53801d4\n",
            "  Preparing metadata (setup.py) ... \u001b[?25l\u001b[?25hdone\n",
            "Requirement already satisfied: requests in /usr/local/lib/python3.10/dist-packages (from streetview==0.0.0) (2.27.1)\n",
            "Requirement already satisfied: pillow in /usr/local/lib/python3.10/dist-packages (from streetview==0.0.0) (8.4.0)\n",
            "Requirement already satisfied: pydantic in /usr/local/lib/python3.10/dist-packages (from streetview==0.0.0) (1.10.9)\n",
            "Requirement already satisfied: typing-extensions>=4.2.0 in /usr/local/lib/python3.10/dist-packages (from pydantic->streetview==0.0.0) (4.6.3)\n",
            "Requirement already satisfied: urllib3<1.27,>=1.21.1 in /usr/local/lib/python3.10/dist-packages (from requests->streetview==0.0.0) (1.26.16)\n",
            "Requirement already satisfied: certifi>=2017.4.17 in /usr/local/lib/python3.10/dist-packages (from requests->streetview==0.0.0) (2023.5.7)\n",
            "Requirement already satisfied: charset-normalizer~=2.0.0 in /usr/local/lib/python3.10/dist-packages (from requests->streetview==0.0.0) (2.0.12)\n",
            "Requirement already satisfied: idna<4,>=2.5 in /usr/local/lib/python3.10/dist-packages (from requests->streetview==0.0.0) (3.4)\n",
            "Building wheels for collected packages: streetview\n",
            "  Building wheel for streetview (setup.py) ... \u001b[?25l\u001b[?25hdone\n",
            "  Created wheel for streetview: filename=streetview-0.0.0-py3-none-any.whl size=5851 sha256=9d7c67d11206074d877f24f35cec23a2eae20da20959de873602dde4385815d7\n",
            "  Stored in directory: /tmp/pip-ephem-wheel-cache-gvn7w1gb/wheels/a7/37/28/3a3707dbda09c4ed8d0fe37af8814e46122cd666049bce76ad\n",
            "Successfully built streetview\n",
            "Installing collected packages: streetview\n",
            "Successfully installed streetview-0.0.0\n"
          ]
        }
      ],
      "source": [
        "pip install git+https://github.com/robolyst/streetview\n"
      ]
    },
    {
      "cell_type": "code",
      "execution_count": null,
      "metadata": {
        "colab": {
          "base_uri": "https://localhost:8080/"
        },
        "id": "SYGOE0vHSN1V",
        "outputId": "6fe4979c-9c0a-4396-d39e-878445819737"
      },
      "outputs": [
        {
          "name": "stdout",
          "output_type": "stream",
          "text": [
            "Requirement already satisfied: streetview in /usr/local/lib/python3.10/dist-packages (0.0.0)\n",
            "Requirement already satisfied: requests in /usr/local/lib/python3.10/dist-packages (from streetview) (2.27.1)\n",
            "Requirement already satisfied: pillow in /usr/local/lib/python3.10/dist-packages (from streetview) (8.4.0)\n",
            "Requirement already satisfied: pydantic in /usr/local/lib/python3.10/dist-packages (from streetview) (1.10.9)\n",
            "Requirement already satisfied: typing-extensions>=4.2.0 in /usr/local/lib/python3.10/dist-packages (from pydantic->streetview) (4.6.3)\n",
            "Requirement already satisfied: urllib3<1.27,>=1.21.1 in /usr/local/lib/python3.10/dist-packages (from requests->streetview) (1.26.16)\n",
            "Requirement already satisfied: certifi>=2017.4.17 in /usr/local/lib/python3.10/dist-packages (from requests->streetview) (2023.5.7)\n",
            "Requirement already satisfied: charset-normalizer~=2.0.0 in /usr/local/lib/python3.10/dist-packages (from requests->streetview) (2.0.12)\n",
            "Requirement already satisfied: idna<4,>=2.5 in /usr/local/lib/python3.10/dist-packages (from requests->streetview) (3.4)\n"
          ]
        }
      ],
      "source": [
        "pip install streetview"
      ]
    },
    {
      "cell_type": "markdown",
      "metadata": {
        "id": "LwLcaBWuYaFN"
      },
      "source": [
        "# Download example data (coordinates)"
      ]
    },
    {
      "cell_type": "code",
      "execution_count": null,
      "metadata": {
        "colab": {
          "base_uri": "https://localhost:8080/"
        },
        "id": "_4ybZP-9YZHG",
        "outputId": "248dbedd-a3bd-4878-daf5-83c6d9cfce7d"
      },
      "outputs": [
        {
          "name": "stdout",
          "output_type": "stream",
          "text": [
            "Cloning into 'GSV_pano'...\n",
            "remote: Enumerating objects: 66, done.\u001b[K\n",
            "remote: Counting objects: 100% (66/66), done.\u001b[K\n",
            "remote: Compressing objects: 100% (59/59), done.\u001b[K\n",
            "remote: Total 66 (delta 22), reused 6 (delta 2), pack-reused 0\u001b[K\n",
            "Unpacking objects: 100% (66/66), 6.56 MiB | 4.63 MiB/s, done.\n"
          ]
        }
      ],
      "source": [
        "! git clone https://github.com/JAAAE/GSV_pano.git"
      ]
    },
    {
      "cell_type": "markdown",
      "metadata": {
        "id": "pWjy5XrER-6u"
      },
      "source": [
        "# Read coordinates from the csv file, filter pano_id by date, and export the pano id to the csv file.\n"
      ]
    },
    {
      "cell_type": "code",
      "execution_count": null,
      "metadata": {
        "id": "0W1pCG13LJYC"
      },
      "outputs": [],
      "source": [
        "from streetview import search_panoramas\n",
        "import csv\n",
        "\n",
        "# Open the csv file\n",
        "with open('/content/GSV_pano/coordinates.csv', 'r') as file:\n",
        "    # Create a csv reader\n",
        "    reader = csv.reader(file)\n",
        "\n",
        "    pano_ids_first = []\n",
        "\n",
        "    # Iterate over each row in the csv\n",
        "    for row in reader:\n",
        "        # Extract latitude and longitude from the row\n",
        "        lat, lon = row[0], row[1]\n",
        "\n",
        "        # Perform panorama search\n",
        "        panoramas = search_panoramas(lat=lat, lon=lon)\n",
        "\n",
        "        # Filter panoramas based on csv date (e.g. after 2018)\n",
        "        filtered_panoramas = [panorama for panorama in panoramas if panorama.date is not None and int(panorama.date.split('-')[0]) > 2019]\n",
        "\n",
        "        # Extract the pano_id based on the filtered Google Street View (GSV) date\n",
        "        if filtered_panoramas:\n",
        "            pano_ids_first.append(filtered_panoramas[0].pano_id)\n",
        "        else:\n",
        "            pano_ids_first.append(\"null\")\n",
        "# Append the pano_ids as a new column in the existing csv file\n",
        "with open('output_pano_id.csv', 'a', newline='') as csvfile:\n",
        "    writer = csv.DictWriter(csvfile, fieldnames=[\"sequence_id\",\"pano_id\"])\n",
        "    writer.writeheader()\n",
        "\n",
        "    # Write each pano_id with a sequence ID in a new row\n",
        "    for i, pano_id in enumerate(pano_ids_first, start=1):\n",
        "        writer.writerow({\"sequence_id\": i,\"pano_id\": pano_id})\n"
      ]
    },
    {
      "cell_type": "markdown",
      "metadata": {
        "id": "gd4upUnlSPV9"
      },
      "source": [
        "# download panoramic imagery"
      ]
    },
    {
      "cell_type": "code",
      "execution_count": null,
      "metadata": {
        "colab": {
          "base_uri": "https://localhost:8080/"
        },
        "id": "ff4uGa9lQdhu",
        "outputId": "2692e533-ce6e-41fd-c641-3fdb61d21724"
      },
      "outputs": [
        {
          "name": "stdout",
          "output_type": "stream",
          "text": [
            "bEFu5NCbivbs_dQMXOSBQg\n",
            "gWRkis4v4Oqn6GaYcTT7aQ\n",
            "M7dv9YW8Ui0N8EZMnKywSw\n",
            "j3ztjI2LYTjPphNh4VXf6g\n",
            "l1bxbprV62B1izL8y7xTlg\n",
            "hmuhgrTJwArHJzJvqWimcA\n",
            "Jmk6Iid2Tk47eyAw4pFKWw\n",
            "vam1z1sUEOaqrT_cx8NeMA\n",
            "rKfEjybjMdVM5L4P50rP4w\n"
          ]
        }
      ],
      "source": [
        "from streetview import get_panorama\n",
        "import csv\n",
        "\n",
        "# Open the CSV file\n",
        "with open('output_pano_id.csv', 'r') as file:\n",
        "    # Create a CSV reader\n",
        "    reader = csv.reader(file)\n",
        "    next(reader)  # Skip the header\n",
        "\n",
        "    # Iterate over each row in the CSV\n",
        "    for row in reader:\n",
        "        # Extract the panorama ID from the row\n",
        "        pano_id = row[1]  # Assuming the panorama ID is in the third column (index 2)\n",
        "\n",
        "        if pano_id == \"null\":\n",
        "            continue  # Move to the next row if the panorama ID is \"NULL\"\n",
        "\n",
        "        print(pano_id)\n",
        "\n",
        "        # Retrieve the panorama image\n",
        "        image = get_panorama(pano_id=pano_id)\n",
        "\n",
        "        # Save the image\n",
        "        image.save(f\"{pano_id}.jpg\", \"jpeg\")\n",
        "\n"
      ]
    },
    {
      "cell_type": "code",
      "execution_count": null,
      "metadata": {
        "id": "E1txCPV2YOkE"
      },
      "outputs": [],
      "source": [
        "from PIL import Image\n",
        "\n",
        "# Open the image\n",
        "image = Image.open('image.jpg')\n",
        "\n",
        "# Resize the image\n",
        "resized_image = image.resize((1024, 512))\n",
        "\n",
        "# Save the resized image\n",
        "resized_image.save('resized_image.jpg')\n"
      ]
    }
  ],
  "metadata": {
    "accelerator": "GPU",
    "colab": {
      "gpuType": "T4",
      "provenance": []
    },
    "gpuClass": "standard",
    "kernelspec": {
      "display_name": "Python 3",
      "name": "python3"
    },
    "language_info": {
      "name": "python"
    }
  },
  "nbformat": 4,
  "nbformat_minor": 0
}
