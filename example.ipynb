{
  "nbformat": 4,
  "nbformat_minor": 0,
  "metadata": {
    "colab": {
      "provenance": []
    },
    "kernelspec": {
      "name": "python3",
      "display_name": "Python 3"
    },
    "language_info": {
      "name": "python"
    }
  },
  "cells": [
    {
      "cell_type": "markdown",
      "source": [
        "# Connect to google drive"
      ],
      "metadata": {
        "id": "h1_vcsF_RdYp"
      }
    },
    {
      "cell_type": "code",
      "execution_count": null,
      "metadata": {
        "id": "YVqBLpn8JYUz"
      },
      "outputs": [],
      "source": [
        "from google.colab import drive\n",
        "drive.mount('/content/drive') "
      ]
    },
    {
      "cell_type": "code",
      "source": [
        "cd /content/"
      ],
      "metadata": {
        "id": "h4vHpMoZLF6b",
        "colab": {
          "base_uri": "https://localhost:8080/"
        },
        "outputId": "7f9a72c6-06e1-4df4-ea13-bfa45b2e2f03"
      },
      "execution_count": null,
      "outputs": [
        {
          "output_type": "stream",
          "name": "stdout",
          "text": [
            "/content\n"
          ]
        }
      ]
    },
    {
      "cell_type": "markdown",
      "source": [
        "# Downlaod library "
      ],
      "metadata": {
        "id": "0qUwOkGoRvKw"
      }
    },
    {
      "cell_type": "code",
      "source": [
        "pip install git+https://github.com/robolyst/streetview\n"
      ],
      "metadata": {
        "id": "AlLOxA9GLHZy"
      },
      "execution_count": null,
      "outputs": []
    },
    {
      "cell_type": "code",
      "source": [
        "pip install streetview"
      ],
      "metadata": {
        "id": "SYGOE0vHSN1V"
      },
      "execution_count": null,
      "outputs": []
    },
    {
      "cell_type": "markdown",
      "source": [
        "# Download example data (coordinates)"
      ],
      "metadata": {
        "id": "LwLcaBWuYaFN"
      }
    },
    {
      "cell_type": "code",
      "source": [
        "! git clone https://github.com/JAAAE/GSV_pano.git"
      ],
      "metadata": {
        "id": "_4ybZP-9YZHG"
      },
      "execution_count": null,
      "outputs": []
    },
    {
      "cell_type": "markdown",
      "source": [
        "# Read coordinates from the csv file, filter pano_id by date, and export the pano id to the csv file.\n"
      ],
      "metadata": {
        "id": "pWjy5XrER-6u"
      }
    },
    {
      "cell_type": "code",
      "source": [
        "from streetview import search_panoramas\n",
        "import csv\n",
        "\n",
        "# Open the csv file\n",
        "with open('/content/GSV_pano/coordinates.csv', 'r') as file:\n",
        "    # Create a csv reader\n",
        "    reader = csv.reader(file)\n",
        "\n",
        "    pano_ids_first = []\n",
        "\n",
        "    # Iterate over each row in the csv\n",
        "    for row in reader:\n",
        "        # Extract latitude and longitude from the row\n",
        "        lat, lon = row[0], row[1]\n",
        "\n",
        "        # Perform panorama search\n",
        "        panoramas = search_panoramas(lat=lat, lon=lon)\n",
        "\n",
        "        # Filter panoramas based on csv date (e.g. after 2018)\n",
        "        filtered_panoramas = [panorama for panorama in panoramas if panorama.date is not None and int(panorama.date.split('-')[0]) > 2019]\n",
        "\n",
        "        # Extract the pano_id based on the filtered Google Street View (GSV) date\n",
        "        if filtered_panoramas:\n",
        "            pano_ids_first.append(filtered_panoramas[0].pano_id)\n",
        "\n",
        "# Append the pano_ids as a new column in the existing csv file\n",
        "with open('output_pano_id.csv', 'a', newline='') as csvfile:\n",
        "    writer = csv.DictWriter(csvfile,fieldnames = [\"pano_id\"])\n",
        "    writer.writeheader()\n",
        "    writer = csv.writer(csvfile)\n",
        "\n",
        "    # Write each pano_id in a new row as a separate column\n",
        "    for pano_id in pano_ids_first:\n",
        "        writer.writerow([pano_id])\n"
      ],
      "metadata": {
        "id": "0W1pCG13LJYC"
      },
      "execution_count": null,
      "outputs": []
    },
    {
      "cell_type": "markdown",
      "source": [
        "# download panoramic imagery "
      ],
      "metadata": {
        "id": "gd4upUnlSPV9"
      }
    },
    {
      "cell_type": "code",
      "source": [
        "from streetview import get_panorama\n",
        "import csv\n",
        "\n",
        "# Open the csv file\n",
        "with open('output_pano_id.csv', 'r') as file:\n",
        "    # Create a csv reader\n",
        "    reader = csv.reader(file)\n",
        "    next(reader)\n",
        "    # Iterate over each row in the csv\n",
        "    for row in reader:\n",
        "        # Extract the panorama ID from the row\n",
        "        pano_id = row[0]  # Assuming the panorama ID is in the third column (index 2)\n",
        "        print(pano_id)\n",
        "        # Retrieve the panorama image\n",
        "        image = get_panorama(pano_id=pano_id)\n",
        "\n",
        "        # Save the image\n",
        "        image.save(f\"{pano_id}.jpg\", \"jpeg\")\n"
      ],
      "metadata": {
        "id": "ff4uGa9lQdhu"
      },
      "execution_count": null,
      "outputs": []
    }
  ]
}